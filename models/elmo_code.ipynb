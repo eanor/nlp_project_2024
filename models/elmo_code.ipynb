{
  "metadata": {
    "colab": {
      "provenance": []
    },
    "kernelspec": {
      "name": "python3",
      "display_name": "Python 3",
      "language": "python"
    },
    "language_info": {
      "name": "python",
      "version": "3.10.13",
      "mimetype": "text/x-python",
      "codemirror_mode": {
        "name": "ipython",
        "version": 3
      },
      "pygments_lexer": "ipython3",
      "nbconvert_exporter": "python",
      "file_extension": ".py"
    },
    "kaggle": {
      "accelerator": "nvidiaTeslaT4",
      "dataSources": [],
      "dockerImageVersionId": 30674,
      "isInternetEnabled": true,
      "language": "python",
      "sourceType": "notebook",
      "isGpuEnabled": true
    }
  },
  "nbformat_minor": 0,
  "nbformat": 4,
  "cells": [
    {
      "cell_type": "code",
      "source": [
        "import pandas as pd\n",
        "import re\n",
        "from tqdm import tqdm\n",
        "import json"
      ],
      "metadata": {
        "id": "dB1iD8AWfDhH",
        "execution": {
          "iopub.status.busy": "2024-03-24T16:39:01.996357Z",
          "iopub.execute_input": "2024-03-24T16:39:01.996744Z",
          "iopub.status.idle": "2024-03-24T16:39:02.001278Z",
          "shell.execute_reply.started": "2024-03-24T16:39:01.996715Z",
          "shell.execute_reply": "2024-03-24T16:39:02.000275Z"
        },
        "trusted": true
      },
      "execution_count": 1,
      "outputs": []
    },
    {
      "cell_type": "code",
      "source": [
        "!wget -O /content/corpus1.json https://raw.githubusercontent.com/eanor/nlp_project_2024/main/corpus/corpus19.json\n",
        "!wget -O /content/corpus2.json https://raw.githubusercontent.com/eanor/nlp_project_2024/main/corpus/corpus20.json\n",
        "!wget -O /content/corpus3.json https://raw.githubusercontent.com/eanor/nlp_project_2024/main/corpus/corpus21.json"
      ],
      "metadata": {
        "colab": {
          "base_uri": "https://localhost:8080/"
        },
        "id": "c7pQbgJ9dCqa",
        "outputId": "a030cd80-066d-4c6b-af15-b873a5101ab6",
        "execution": {
          "iopub.status.busy": "2024-03-24T16:38:25.346628Z",
          "iopub.execute_input": "2024-03-24T16:38:25.347527Z",
          "iopub.status.idle": "2024-03-24T16:38:29.278803Z",
          "shell.execute_reply.started": "2024-03-24T16:38:25.347494Z",
          "shell.execute_reply": "2024-03-24T16:38:29.277713Z"
        },
        "trusted": true
      },
      "execution_count": 7,
      "outputs": [
        {
          "output_type": "stream",
          "name": "stdout",
          "text": [
            "--2024-03-24 20:15:31--  https://raw.githubusercontent.com/eanor/nlp_project_2024/main/corpus/corpus19.json\n",
            "Resolving raw.githubusercontent.com (raw.githubusercontent.com)... 185.199.108.133, 185.199.109.133, 185.199.110.133, ...\n",
            "Connecting to raw.githubusercontent.com (raw.githubusercontent.com)|185.199.108.133|:443... connected.\n",
            "HTTP request sent, awaiting response... 200 OK\n",
            "Length: 5517518 (5.3M) [text/plain]\n",
            "Saving to: ‘/content/corpus1.json’\n",
            "\n",
            "\r/content/corpus1.js   0%[                    ]       0  --.-KB/s               \r/content/corpus1.js 100%[===================>]   5.26M  --.-KB/s    in 0.08s   \n",
            "\n",
            "2024-03-24 20:15:31 (64.6 MB/s) - ‘/content/corpus1.json’ saved [5517518/5517518]\n",
            "\n",
            "--2024-03-24 20:15:31--  https://raw.githubusercontent.com/eanor/nlp_project_2024/main/corpus/corpus20.json\n",
            "Resolving raw.githubusercontent.com (raw.githubusercontent.com)... 185.199.110.133, 185.199.109.133, 185.199.111.133, ...\n",
            "Connecting to raw.githubusercontent.com (raw.githubusercontent.com)|185.199.110.133|:443... connected.\n",
            "HTTP request sent, awaiting response... 200 OK\n",
            "Length: 4605775 (4.4M) [text/plain]\n",
            "Saving to: ‘/content/corpus2.json’\n",
            "\n",
            "/content/corpus2.js 100%[===================>]   4.39M  --.-KB/s    in 0.08s   \n",
            "\n",
            "2024-03-24 20:15:32 (55.1 MB/s) - ‘/content/corpus2.json’ saved [4605775/4605775]\n",
            "\n",
            "--2024-03-24 20:15:32--  https://raw.githubusercontent.com/eanor/nlp_project_2024/main/corpus/corpus21.json\n",
            "Resolving raw.githubusercontent.com (raw.githubusercontent.com)... 185.199.109.133, 185.199.108.133, 185.199.111.133, ...\n",
            "Connecting to raw.githubusercontent.com (raw.githubusercontent.com)|185.199.109.133|:443... connected.\n",
            "HTTP request sent, awaiting response... 200 OK\n",
            "Length: 4791235 (4.6M) [text/plain]\n",
            "Saving to: ‘/content/corpus3.json’\n",
            "\n",
            "/content/corpus3.js 100%[===================>]   4.57M  --.-KB/s    in 0.08s   \n",
            "\n",
            "2024-03-24 20:15:32 (60.5 MB/s) - ‘/content/corpus3.json’ saved [4791235/4791235]\n",
            "\n"
          ]
        }
      ]
    },
    {
      "cell_type": "code",
      "source": [
        "def get_corpus(path):\n",
        "    with open(path,'r', encoding='utf-8') as f:\n",
        "        corpus = json.load(f)\n",
        "    return corpus"
      ],
      "metadata": {
        "id": "yENlvkSA3ODf",
        "execution": {
          "iopub.status.busy": "2024-03-24T16:39:39.218404Z",
          "iopub.execute_input": "2024-03-24T16:39:39.218862Z",
          "iopub.status.idle": "2024-03-24T16:39:39.224515Z",
          "shell.execute_reply.started": "2024-03-24T16:39:39.218816Z",
          "shell.execute_reply": "2024-03-24T16:39:39.223445Z"
        },
        "trusted": true
      },
      "execution_count": 8,
      "outputs": []
    },
    {
      "cell_type": "code",
      "source": [
        "def reduce_cont(d):\n",
        "  '''Для ELMO предложений оказалось слишком много, ограничили 15-ю, иначе будет очень долго работать'''\n",
        "\n",
        "  for k in d.keys():\n",
        "    if len(d[k]) > 15:\n",
        "      d[k] = d[k][:15]\n",
        "\n",
        "  return d"
      ],
      "metadata": {
        "id": "mU19R5QgaQkP"
      },
      "execution_count": 9,
      "outputs": []
    },
    {
      "cell_type": "code",
      "source": [
        "corpus1 = reduce_cont(get_corpus('/content/corpus1.json'))\n",
        "corpus2 = reduce_cont(get_corpus('/content/corpus2.json'))\n",
        "corpus3 = reduce_cont(get_corpus('/content/corpus3.json'))"
      ],
      "metadata": {
        "id": "Ay7_h8gZdQku",
        "execution": {
          "iopub.status.busy": "2024-03-24T16:39:56.158478Z",
          "iopub.execute_input": "2024-03-24T16:39:56.158859Z",
          "iopub.status.idle": "2024-03-24T16:39:56.221705Z",
          "shell.execute_reply.started": "2024-03-24T16:39:56.158832Z",
          "shell.execute_reply": "2024-03-24T16:39:56.220987Z"
        },
        "trusted": true
      },
      "execution_count": 10,
      "outputs": []
    },
    {
      "cell_type": "code",
      "source": [
        "!wget -O /content/annotated_testset.tsv https://raw.githubusercontent.com/eanor/nlp_project_2024/main/models/chat_targets.tsv\n",
        "\n",
        "# первые 20 целевых слов, те же, что и для GigaChat"
      ],
      "metadata": {
        "colab": {
          "base_uri": "https://localhost:8080/"
        },
        "id": "iCeynFAkeLct",
        "outputId": "11af160c-642b-4e79-e6de-1f2845168a95",
        "execution": {
          "iopub.status.busy": "2024-03-24T16:40:11.448917Z",
          "iopub.execute_input": "2024-03-24T16:40:11.449817Z",
          "iopub.status.idle": "2024-03-24T16:40:12.517267Z",
          "shell.execute_reply.started": "2024-03-24T16:40:11.449783Z",
          "shell.execute_reply": "2024-03-24T16:40:12.516323Z"
        },
        "trusted": true
      },
      "execution_count": 11,
      "outputs": [
        {
          "output_type": "stream",
          "name": "stdout",
          "text": [
            "--2024-03-24 20:15:41--  https://raw.githubusercontent.com/eanor/nlp_project_2024/main/models/chat_targets.tsv\n",
            "Resolving raw.githubusercontent.com (raw.githubusercontent.com)... 185.199.108.133, 185.199.109.133, 185.199.110.133, ...\n",
            "Connecting to raw.githubusercontent.com (raw.githubusercontent.com)|185.199.108.133|:443... connected.\n",
            "HTTP request sent, awaiting response... 200 OK\n",
            "Length: 1294 (1.3K) [text/plain]\n",
            "Saving to: ‘/content/annotated_testset.tsv’\n",
            "\n",
            "\r          /content/   0%[                    ]       0  --.-KB/s               \r/content/annotated_ 100%[===================>]   1.26K  --.-KB/s    in 0s      \n",
            "\n",
            "2024-03-24 20:15:41 (129 MB/s) - ‘/content/annotated_testset.tsv’ saved [1294/1294]\n",
            "\n"
          ]
        }
      ]
    },
    {
      "cell_type": "code",
      "source": [
        "df = pd.read_csv('/content/annotated_testset.tsv', sep=\"\\t\", header=None)"
      ],
      "metadata": {
        "id": "VMJi_BeUexp-",
        "execution": {
          "iopub.status.busy": "2024-03-24T16:40:25.283230Z",
          "iopub.execute_input": "2024-03-24T16:40:25.284120Z",
          "iopub.status.idle": "2024-03-24T16:40:25.300316Z",
          "shell.execute_reply.started": "2024-03-24T16:40:25.284079Z",
          "shell.execute_reply": "2024-03-24T16:40:25.299374Z"
        },
        "trusted": true
      },
      "execution_count": 12,
      "outputs": []
    },
    {
      "cell_type": "code",
      "source": [
        "target_words=[]\n",
        "cnt = 1\n",
        "for w in df[0]:\n",
        "    if cnt == 21: # возьмем первые 20 слов, вместо 100\n",
        "      break\n",
        "    target_words.append(w)\n",
        "    cnt += 1"
      ],
      "metadata": {
        "id": "Zo7iTU8-fGw8",
        "execution": {
          "iopub.status.busy": "2024-03-24T16:40:34.620960Z",
          "iopub.execute_input": "2024-03-24T16:40:34.621669Z",
          "iopub.status.idle": "2024-03-24T16:40:34.632927Z",
          "shell.execute_reply.started": "2024-03-24T16:40:34.621634Z",
          "shell.execute_reply": "2024-03-24T16:40:34.631964Z"
        },
        "trusted": true
      },
      "execution_count": 13,
      "outputs": []
    },
    {
      "cell_type": "code",
      "source": [
        "! pip install --upgrade simple_elmo"
      ],
      "metadata": {
        "colab": {
          "base_uri": "https://localhost:8080/"
        },
        "id": "BBCU57-ugYAO",
        "outputId": "85cc7ebd-7d2e-4776-fa17-82003d3f3495",
        "execution": {
          "iopub.status.busy": "2024-03-24T16:40:40.453535Z",
          "iopub.execute_input": "2024-03-24T16:40:40.454264Z",
          "iopub.status.idle": "2024-03-24T16:40:54.323146Z",
          "shell.execute_reply.started": "2024-03-24T16:40:40.454207Z",
          "shell.execute_reply": "2024-03-24T16:40:54.322164Z"
        },
        "trusted": true
      },
      "execution_count": 14,
      "outputs": [
        {
          "output_type": "stream",
          "name": "stdout",
          "text": [
            "Collecting simple_elmo\n",
            "  Downloading simple_elmo-0.9.2-py3-none-any.whl (46 kB)\n",
            "\u001b[?25l     \u001b[90m━━━━━━━━━━━━━━━━━━━━━━━━━━━━━━━━━━━━━━━━\u001b[0m \u001b[32m0.0/46.2 kB\u001b[0m \u001b[31m?\u001b[0m eta \u001b[36m-:--:--\u001b[0m\r\u001b[2K     \u001b[90m━━━━━━━━━━━━━━━━━━━━━━━━━━━━━━━━━━━━━━━━\u001b[0m \u001b[32m46.2/46.2 kB\u001b[0m \u001b[31m1.2 MB/s\u001b[0m eta \u001b[36m0:00:00\u001b[0m\n",
            "\u001b[?25hRequirement already satisfied: h5py in /usr/local/lib/python3.10/dist-packages (from simple_elmo) (3.9.0)\n",
            "Requirement already satisfied: numpy in /usr/local/lib/python3.10/dist-packages (from simple_elmo) (1.25.2)\n",
            "Requirement already satisfied: smart-open>1.8.1 in /usr/local/lib/python3.10/dist-packages (from simple_elmo) (6.4.0)\n",
            "Requirement already satisfied: pandas in /usr/local/lib/python3.10/dist-packages (from simple_elmo) (1.5.3)\n",
            "Requirement already satisfied: scipy in /usr/local/lib/python3.10/dist-packages (from simple_elmo) (1.11.4)\n",
            "Requirement already satisfied: python-dateutil>=2.8.1 in /usr/local/lib/python3.10/dist-packages (from pandas->simple_elmo) (2.8.2)\n",
            "Requirement already satisfied: pytz>=2020.1 in /usr/local/lib/python3.10/dist-packages (from pandas->simple_elmo) (2023.4)\n",
            "Requirement already satisfied: six>=1.5 in /usr/local/lib/python3.10/dist-packages (from python-dateutil>=2.8.1->pandas->simple_elmo) (1.16.0)\n",
            "Installing collected packages: simple_elmo\n",
            "Successfully installed simple_elmo-0.9.2\n"
          ]
        }
      ]
    },
    {
      "cell_type": "code",
      "source": [
        "from simple_elmo import ElmoModel\n",
        "\n",
        "model = ElmoModel()"
      ],
      "metadata": {
        "id": "d7vy3Z7Hgceo",
        "execution": {
          "iopub.status.busy": "2024-03-24T16:40:54.325494Z",
          "iopub.execute_input": "2024-03-24T16:40:54.325878Z",
          "iopub.status.idle": "2024-03-24T16:41:20.402600Z",
          "shell.execute_reply.started": "2024-03-24T16:40:54.325840Z",
          "shell.execute_reply": "2024-03-24T16:41:20.401624Z"
        },
        "trusted": true
      },
      "execution_count": 15,
      "outputs": []
    },
    {
      "cell_type": "code",
      "source": [
        "!wget http://vectors.nlpl.eu/repository/20/196.zip"
      ],
      "metadata": {
        "colab": {
          "base_uri": "https://localhost:8080/"
        },
        "id": "8JDxQNZigJSB",
        "outputId": "6b7eddc6-bea8-4f96-b446-cb1c1bd624a7",
        "execution": {
          "iopub.status.busy": "2024-03-24T16:41:22.952641Z",
          "iopub.execute_input": "2024-03-24T16:41:22.953748Z",
          "iopub.status.idle": "2024-03-24T16:41:34.427356Z",
          "shell.execute_reply.started": "2024-03-24T16:41:22.953714Z",
          "shell.execute_reply": "2024-03-24T16:41:34.426267Z"
        },
        "trusted": true
      },
      "execution_count": 16,
      "outputs": [
        {
          "output_type": "stream",
          "name": "stdout",
          "text": [
            "--2024-03-24 20:16:17--  http://vectors.nlpl.eu/repository/20/196.zip\n",
            "Resolving vectors.nlpl.eu (vectors.nlpl.eu)... 129.240.189.181\n",
            "Connecting to vectors.nlpl.eu (vectors.nlpl.eu)|129.240.189.181|:80... connected.\n",
            "HTTP request sent, awaiting response... 200 OK\n",
            "Length: 206986351 (197M) [application/zip]\n",
            "Saving to: ‘196.zip’\n",
            "\n",
            "196.zip             100%[===================>] 197.40M  24.9MB/s    in 8.8s    \n",
            "\n",
            "2024-03-24 20:16:26 (22.5 MB/s) - ‘196.zip’ saved [206986351/206986351]\n",
            "\n"
          ]
        }
      ]
    },
    {
      "cell_type": "code",
      "source": [
        "import tensorflow as tf\n",
        "\n",
        "model.load(\"/content/196.zip\")"
      ],
      "metadata": {
        "colab": {
          "base_uri": "https://localhost:8080/",
          "height": 90
        },
        "id": "qpLNTUyHg0_U",
        "outputId": "cfa0da45-cbe6-410a-c226-dee0b937ce3d",
        "execution": {
          "iopub.status.busy": "2024-03-24T16:48:56.779024Z",
          "iopub.execute_input": "2024-03-24T16:48:56.779364Z",
          "iopub.status.idle": "2024-03-24T16:48:59.826514Z",
          "shell.execute_reply.started": "2024-03-24T16:48:56.779339Z",
          "shell.execute_reply": "2024-03-24T16:48:59.825124Z"
        },
        "trusted": true
      },
      "execution_count": 17,
      "outputs": [
        {
          "output_type": "stream",
          "name": "stderr",
          "text": [
            "/usr/local/lib/python3.10/dist-packages/simple_elmo/model.py:531: UserWarning: `tf.nn.rnn_cell.LSTMCell` is deprecated and will be removed in a future version. This class is equivalent as `tf.keras.layers.LSTMCell`, and will be replaced by that in Tensorflow 2.0.\n",
            "  lstm_cell = tf.compat.v1.nn.rnn_cell.LSTMCell(\n"
          ]
        },
        {
          "output_type": "execute_result",
          "data": {
            "text/plain": [
              "'The model is now loaded.'"
            ],
            "application/vnd.google.colaboratory.intrinsic+json": {
              "type": "string"
            }
          },
          "metadata": {},
          "execution_count": 17
        }
      ]
    },
    {
      "cell_type": "code",
      "source": [
        "import numpy as np"
      ],
      "metadata": {
        "id": "EwwS5Gm4oAto",
        "execution": {
          "iopub.status.busy": "2024-03-24T09:46:10.293782Z",
          "iopub.status.idle": "2024-03-24T09:46:10.294722Z",
          "shell.execute_reply.started": "2024-03-24T09:46:10.294391Z",
          "shell.execute_reply": "2024-03-24T09:46:10.294414Z"
        },
        "trusted": true
      },
      "execution_count": 18,
      "outputs": []
    },
    {
      "cell_type": "code",
      "source": [
        "!mkdir /content/experiment_dir/"
      ],
      "metadata": {
        "execution": {
          "iopub.status.busy": "2024-03-24T09:46:10.297876Z",
          "iopub.status.idle": "2024-03-24T09:46:10.298323Z",
          "shell.execute_reply.started": "2024-03-24T09:46:10.298083Z",
          "shell.execute_reply": "2024-03-24T09:46:10.298100Z"
        },
        "id": "kvKcT0WQ3ODi",
        "trusted": true
      },
      "execution_count": 14,
      "outputs": []
    },
    {
      "cell_type": "code",
      "source": [
        "import os\n",
        "\n",
        "newdir = '/content/experiment_dir/word_representations/'\n",
        "\n",
        "rep_dir_c1 = newdir + \"c1/\"\n",
        "rep_dir_c2 = newdir + \"c2/\"\n",
        "rep_dir_c3 = newdir + \"c3/\"\n",
        "\n",
        "os.makedirs(rep_dir_c1, exist_ok=True)\n",
        "os.makedirs(rep_dir_c2, exist_ok=True)\n",
        "os.makedirs(rep_dir_c3, exist_ok=True)"
      ],
      "metadata": {
        "execution": {
          "iopub.status.busy": "2024-03-24T09:46:10.299899Z",
          "iopub.status.idle": "2024-03-24T09:46:10.300346Z",
          "shell.execute_reply.started": "2024-03-24T09:46:10.300106Z",
          "shell.execute_reply": "2024-03-24T09:46:10.300123Z"
        },
        "id": "_S-d-DJ_3ODj",
        "trusted": true
      },
      "execution_count": 19,
      "outputs": []
    },
    {
      "cell_type": "code",
      "source": [
        "def elmocounter(rep_dir, target_words, corpus):\n",
        "    allresult = []\n",
        "    for word in tqdm(target_words):\n",
        "        vectors = []\n",
        "        print('\\n-----', word.upper(), '-----')\n",
        "        for sent in tqdm(corpus[word]):\n",
        "            if word in sent:\n",
        "                word_idx = sent.index(word)\n",
        "                word_vector = model.get_elmo_vectors([sent])[0][word_idx]\n",
        "                vectors.append(word_vector)\n",
        "        vectors = np.array(vectors)\n",
        "        np.save(rep_dir + word + \".npy\", vectors)\n",
        "        avg = np.mean(vectors, axis=0)\n",
        "        allresult.append({word: avg})\n",
        "    return allresult"
      ],
      "metadata": {
        "id": "C7D15ih1UWQ_"
      },
      "execution_count": 32,
      "outputs": []
    },
    {
      "cell_type": "code",
      "source": [
        "print(\"Extracting representations for CORPUS19...\")\n",
        "c1_reps = elmocounter('/content/experiment_dir/word_representations/c1/', target_words, corpus1)"
      ],
      "metadata": {
        "execution": {
          "iopub.status.busy": "2024-03-24T09:46:10.303536Z",
          "iopub.status.idle": "2024-03-24T09:46:10.303965Z",
          "shell.execute_reply.started": "2024-03-24T09:46:10.303741Z",
          "shell.execute_reply": "2024-03-24T09:46:10.303759Z"
        },
        "colab": {
          "base_uri": "https://localhost:8080/"
        },
        "id": "X_LpB5vV3ODj",
        "outputId": "eb4a3d48-f64b-4426-b5cf-6b86cdb761c8",
        "trusted": true
      },
      "execution_count": 58,
      "outputs": [
        {
          "output_type": "stream",
          "name": "stdout",
          "text": [
            "Extracting representations for CORPUS19...\n"
          ]
        },
        {
          "output_type": "stream",
          "name": "stderr",
          "text": [
            "\r  0%|          | 0/1 [00:00<?, ?it/s]"
          ]
        },
        {
          "output_type": "stream",
          "name": "stdout",
          "text": [
            "\n",
            "----- АВТОРИТЕТ -----\n"
          ]
        },
        {
          "output_type": "stream",
          "name": "stderr",
          "text": [
            "\n",
            "  0%|          | 0/2 [00:00<?, ?it/s]\u001b[A\n",
            " 50%|█████     | 1/2 [00:14<00:14, 14.93s/it]\u001b[A\n",
            "100%|██████████| 2/2 [00:48<00:00, 24.15s/it]\n",
            "100%|██████████| 1/1 [00:48<00:00, 48.31s/it]\n"
          ]
        }
      ]
    },
    {
      "cell_type": "code",
      "source": [
        "print(\"Extracting representations for CORPUS20...\")\n",
        "c2_reps = elmocounter('/content/experiment_dir/word_representations/c2/', target_words, corpus2)"
      ],
      "metadata": {
        "execution": {
          "iopub.status.busy": "2024-03-24T09:46:10.305182Z",
          "iopub.status.idle": "2024-03-24T09:46:10.305631Z",
          "shell.execute_reply.started": "2024-03-24T09:46:10.305388Z",
          "shell.execute_reply": "2024-03-24T09:46:10.305406Z"
        },
        "id": "c9NSg0z63ODj",
        "colab": {
          "base_uri": "https://localhost:8080/"
        },
        "outputId": "707bf3da-34bb-449e-b67f-6141be7b1f98",
        "trusted": true
      },
      "execution_count": 59,
      "outputs": [
        {
          "output_type": "stream",
          "name": "stdout",
          "text": [
            "Extracting representations for CORPUS20...\n"
          ]
        },
        {
          "output_type": "stream",
          "name": "stderr",
          "text": [
            "\r  0%|          | 0/1 [00:00<?, ?it/s]"
          ]
        },
        {
          "output_type": "stream",
          "name": "stdout",
          "text": [
            "\n",
            "----- АВТОРИТЕТ -----\n"
          ]
        },
        {
          "output_type": "stream",
          "name": "stderr",
          "text": [
            "\n",
            "  0%|          | 0/2 [00:00<?, ?it/s]\u001b[A\n",
            " 50%|█████     | 1/2 [00:12<00:12, 12.21s/it]\u001b[A\n",
            "100%|██████████| 2/2 [00:28<00:00, 14.37s/it]\n",
            "100%|██████████| 1/1 [00:28<00:00, 28.76s/it]\n"
          ]
        }
      ]
    },
    {
      "cell_type": "code",
      "source": [
        "import os\n",
        "import zipfile\n",
        "\n",
        "def zipdir(path, ziph):\n",
        "    # ziph is zipfile handle\n",
        "    for root, dirs, files in os.walk(path):\n",
        "        for file in files:\n",
        "            ziph.write(os.path.join(root, file))"
      ],
      "metadata": {
        "id": "hj6xqyKcbxhD"
      },
      "execution_count": 36,
      "outputs": []
    },
    {
      "cell_type": "code",
      "source": [
        "from google.colab import files\n",
        "\n",
        "def download_reps(c):\n",
        "    czip = c + '.zip'\n",
        "    zipf = zipfile.ZipFile(czip, 'w', zipfile.ZIP_DEFLATED)\n",
        "    zipdir('/content/experiment_dir/word_representations/' + c + '/', zipf)\n",
        "    zipf.close()\n",
        "\n",
        "    files.download(\"/content/\" + czip)"
      ],
      "metadata": {
        "id": "aSr22sUOyfqs"
      },
      "execution_count": 37,
      "outputs": []
    },
    {
      "cell_type": "code",
      "source": [
        "print(\"Extracting representations for CORPUS21...\")\n",
        "c3_reps = elmocounter('/content/experiment_dir/word_representations/c3/', target_words, corpus3)"
      ],
      "metadata": {
        "execution": {
          "iopub.status.busy": "2024-03-24T09:46:10.307236Z",
          "iopub.status.idle": "2024-03-24T09:46:10.307696Z",
          "shell.execute_reply.started": "2024-03-24T09:46:10.307464Z",
          "shell.execute_reply": "2024-03-24T09:46:10.307482Z"
        },
        "id": "Ay-8S3zn3ODj",
        "colab": {
          "base_uri": "https://localhost:8080/"
        },
        "outputId": "3d08fd60-3ae8-4a44-fc6f-8e012fc74624",
        "trusted": true
      },
      "execution_count": 60,
      "outputs": [
        {
          "output_type": "stream",
          "name": "stdout",
          "text": [
            "Extracting representations for CORPUS21...\n"
          ]
        },
        {
          "output_type": "stream",
          "name": "stderr",
          "text": [
            "\r  0%|          | 0/1 [00:00<?, ?it/s]"
          ]
        },
        {
          "output_type": "stream",
          "name": "stdout",
          "text": [
            "\n",
            "----- АВТОРИТЕТ -----\n"
          ]
        },
        {
          "output_type": "stream",
          "name": "stderr",
          "text": [
            "\n",
            "  0%|          | 0/2 [00:00<?, ?it/s]\u001b[A\n",
            " 50%|█████     | 1/2 [00:22<00:22, 22.29s/it]\u001b[A\n",
            "100%|██████████| 2/2 [00:35<00:00, 18.00s/it]\n",
            "100%|██████████| 1/1 [00:36<00:00, 36.00s/it]\n"
          ]
        }
      ]
    },
    {
      "cell_type": "code",
      "source": [
        "download_reps('c1')\n",
        "download_reps('c2')\n",
        "download_reps('c3')"
      ],
      "metadata": {
        "colab": {
          "base_uri": "https://localhost:8080/",
          "height": 17
        },
        "id": "IwLv2Xomcat6",
        "outputId": "247396f9-6695-44ad-e2f9-70e1e468d4c0"
      },
      "execution_count": 65,
      "outputs": [
        {
          "output_type": "display_data",
          "data": {
            "text/plain": [
              "<IPython.core.display.Javascript object>"
            ],
            "application/javascript": [
              "\n",
              "    async function download(id, filename, size) {\n",
              "      if (!google.colab.kernel.accessAllowed) {\n",
              "        return;\n",
              "      }\n",
              "      const div = document.createElement('div');\n",
              "      const label = document.createElement('label');\n",
              "      label.textContent = `Downloading \"${filename}\": `;\n",
              "      div.appendChild(label);\n",
              "      const progress = document.createElement('progress');\n",
              "      progress.max = size;\n",
              "      div.appendChild(progress);\n",
              "      document.body.appendChild(div);\n",
              "\n",
              "      const buffers = [];\n",
              "      let downloaded = 0;\n",
              "\n",
              "      const channel = await google.colab.kernel.comms.open(id);\n",
              "      // Send a message to notify the kernel that we're ready.\n",
              "      channel.send({})\n",
              "\n",
              "      for await (const message of channel.messages) {\n",
              "        // Send a message to notify the kernel that we're ready.\n",
              "        channel.send({})\n",
              "        if (message.buffers) {\n",
              "          for (const buffer of message.buffers) {\n",
              "            buffers.push(buffer);\n",
              "            downloaded += buffer.byteLength;\n",
              "            progress.value = downloaded;\n",
              "          }\n",
              "        }\n",
              "      }\n",
              "      const blob = new Blob(buffers, {type: 'application/binary'});\n",
              "      const a = document.createElement('a');\n",
              "      a.href = window.URL.createObjectURL(blob);\n",
              "      a.download = filename;\n",
              "      div.appendChild(a);\n",
              "      a.click();\n",
              "      div.remove();\n",
              "    }\n",
              "  "
            ]
          },
          "metadata": {}
        },
        {
          "output_type": "display_data",
          "data": {
            "text/plain": [
              "<IPython.core.display.Javascript object>"
            ],
            "application/javascript": [
              "download(\"download_24eb4fb7-b274-40cf-8904-5798e14b774e\", \"c1.zip\", 9555)"
            ]
          },
          "metadata": {}
        },
        {
          "output_type": "display_data",
          "data": {
            "text/plain": [
              "<IPython.core.display.Javascript object>"
            ],
            "application/javascript": [
              "\n",
              "    async function download(id, filename, size) {\n",
              "      if (!google.colab.kernel.accessAllowed) {\n",
              "        return;\n",
              "      }\n",
              "      const div = document.createElement('div');\n",
              "      const label = document.createElement('label');\n",
              "      label.textContent = `Downloading \"${filename}\": `;\n",
              "      div.appendChild(label);\n",
              "      const progress = document.createElement('progress');\n",
              "      progress.max = size;\n",
              "      div.appendChild(progress);\n",
              "      document.body.appendChild(div);\n",
              "\n",
              "      const buffers = [];\n",
              "      let downloaded = 0;\n",
              "\n",
              "      const channel = await google.colab.kernel.comms.open(id);\n",
              "      // Send a message to notify the kernel that we're ready.\n",
              "      channel.send({})\n",
              "\n",
              "      for await (const message of channel.messages) {\n",
              "        // Send a message to notify the kernel that we're ready.\n",
              "        channel.send({})\n",
              "        if (message.buffers) {\n",
              "          for (const buffer of message.buffers) {\n",
              "            buffers.push(buffer);\n",
              "            downloaded += buffer.byteLength;\n",
              "            progress.value = downloaded;\n",
              "          }\n",
              "        }\n",
              "      }\n",
              "      const blob = new Blob(buffers, {type: 'application/binary'});\n",
              "      const a = document.createElement('a');\n",
              "      a.href = window.URL.createObjectURL(blob);\n",
              "      a.download = filename;\n",
              "      div.appendChild(a);\n",
              "      a.click();\n",
              "      div.remove();\n",
              "    }\n",
              "  "
            ]
          },
          "metadata": {}
        },
        {
          "output_type": "display_data",
          "data": {
            "text/plain": [
              "<IPython.core.display.Javascript object>"
            ],
            "application/javascript": [
              "download(\"download_6b6e3c5a-1d18-4e16-b58e-9087ee4d152b\", \"c2.zip\", 9568)"
            ]
          },
          "metadata": {}
        },
        {
          "output_type": "display_data",
          "data": {
            "text/plain": [
              "<IPython.core.display.Javascript object>"
            ],
            "application/javascript": [
              "\n",
              "    async function download(id, filename, size) {\n",
              "      if (!google.colab.kernel.accessAllowed) {\n",
              "        return;\n",
              "      }\n",
              "      const div = document.createElement('div');\n",
              "      const label = document.createElement('label');\n",
              "      label.textContent = `Downloading \"${filename}\": `;\n",
              "      div.appendChild(label);\n",
              "      const progress = document.createElement('progress');\n",
              "      progress.max = size;\n",
              "      div.appendChild(progress);\n",
              "      document.body.appendChild(div);\n",
              "\n",
              "      const buffers = [];\n",
              "      let downloaded = 0;\n",
              "\n",
              "      const channel = await google.colab.kernel.comms.open(id);\n",
              "      // Send a message to notify the kernel that we're ready.\n",
              "      channel.send({})\n",
              "\n",
              "      for await (const message of channel.messages) {\n",
              "        // Send a message to notify the kernel that we're ready.\n",
              "        channel.send({})\n",
              "        if (message.buffers) {\n",
              "          for (const buffer of message.buffers) {\n",
              "            buffers.push(buffer);\n",
              "            downloaded += buffer.byteLength;\n",
              "            progress.value = downloaded;\n",
              "          }\n",
              "        }\n",
              "      }\n",
              "      const blob = new Blob(buffers, {type: 'application/binary'});\n",
              "      const a = document.createElement('a');\n",
              "      a.href = window.URL.createObjectURL(blob);\n",
              "      a.download = filename;\n",
              "      div.appendChild(a);\n",
              "      a.click();\n",
              "      div.remove();\n",
              "    }\n",
              "  "
            ]
          },
          "metadata": {}
        },
        {
          "output_type": "display_data",
          "data": {
            "text/plain": [
              "<IPython.core.display.Javascript object>"
            ],
            "application/javascript": [
              "download(\"download_7b763f71-2f0d-48be-93f6-3ba818db25e4\", \"c3.zip\", 9572)"
            ]
          },
          "metadata": {}
        }
      ]
    },
    {
      "cell_type": "code",
      "source": [
        "from scipy.spatial import distance\n",
        "\n",
        "def get_cosine_dist(Xs, Ys):\n",
        "\n",
        "    return distance.cosine(Xs, Ys)"
      ],
      "metadata": {
        "execution": {
          "iopub.status.busy": "2024-03-24T09:46:10.310394Z",
          "iopub.status.idle": "2024-03-24T09:46:10.310755Z",
          "shell.execute_reply.started": "2024-03-24T09:46:10.310588Z",
          "shell.execute_reply": "2024-03-24T09:46:10.310602Z"
        },
        "id": "Cpa0HUmq3ODk",
        "trusted": true
      },
      "execution_count": 42,
      "outputs": []
    },
    {
      "cell_type": "code",
      "source": [
        "dists_1_2 = []\n",
        "dists_2_3 = []\n",
        "dists_1_3 = []\n",
        "\n",
        "for id, target in tqdm(enumerate(target_words)):\n",
        "\n",
        "    c1_reps_d = c1_reps[id]\n",
        "    c2_reps_d = c2_reps[id]\n",
        "    c3_reps_d = c3_reps[id]\n",
        "\n",
        "    dist_1_2 = get_cosine_dist(c1_reps_d[target], c2_reps_d[target])\n",
        "    dist_2_3 = get_cosine_dist(c2_reps_d[target], c3_reps_d[target])\n",
        "    dist_1_3 = get_cosine_dist(c1_reps_d[target], c3_reps_d[target])\n",
        "\n",
        "    dists_1_2.append(dist_1_2)\n",
        "    dists_2_3.append(dist_2_3)\n",
        "    dists_1_3.append(dist_1_3)\n",
        "\n",
        "pd.DataFrame({\"word\": target_words, \"change_1_2\": dists_1_2, \"change_2_3\": dists_2_3, \"change_1_3\": dists_1_3}).to_csv(\"prediction_elmo.tsv\", sep=\"\\t\", index=False, header=False)"
      ],
      "metadata": {
        "execution": {
          "iopub.status.busy": "2024-03-24T09:46:10.311966Z",
          "iopub.status.idle": "2024-03-24T09:46:10.312290Z",
          "shell.execute_reply.started": "2024-03-24T09:46:10.312130Z",
          "shell.execute_reply": "2024-03-24T09:46:10.312144Z"
        },
        "id": "DRz_GEfN3ODk",
        "colab": {
          "base_uri": "https://localhost:8080/"
        },
        "outputId": "6c5fbbc9-b981-481f-a325-d4c9168a2c38",
        "trusted": true
      },
      "execution_count": 62,
      "outputs": [
        {
          "output_type": "stream",
          "name": "stderr",
          "text": [
            "1it [00:00, 848.19it/s]\n"
          ]
        }
      ]
    }
  ]
}